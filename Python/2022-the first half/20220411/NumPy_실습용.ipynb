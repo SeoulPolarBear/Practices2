{
  "cells": [
    {
      "cell_type": "markdown",
      "metadata": {
        "id": "4S5fGeuE420E"
      },
      "source": [
        "###**Google Colab의 기본적인 사용법**"
      ]
    },
    {
      "cell_type": "markdown",
      "metadata": {
        "id": "iVvmIYJw44XU"
      },
      "source": [
        "* **텍스트 생성**\n",
        "\n",
        "    상단 '+텍스트' 버튼 클릭\n",
        "* **코드 생성**\n",
        "\n",
        "    상단 '+코드' 버튼 클릭 혹은 Ctrl + M + B\n",
        "* **셀 실행**\n",
        "\n",
        "    실행하려는 셀에서 Ctrl + Enter\n",
        "* **현재 셀 실행 후 새로운 코드 생성**\n",
        "\n",
        "    실행하려는 셀에서 Shift + Enter\n",
        "* **모든 셀 실행**\n",
        "\n",
        "    Ctrl + F9\n",
        "* **셀 삭제**\n",
        "\n",
        "    Ctrl + M + D\n"
      ]
    },
    {
      "cell_type": "markdown",
      "metadata": {
        "id": "kmV7p8e-nble"
      },
      "source": [
        "###**NumPy를 설치하고 import 해봅시다**"
      ]
    },
    {
      "cell_type": "code",
      "execution_count": 2,
      "metadata": {
        "id": "mAizSMjz40cr"
      },
      "outputs": [],
      "source": [
        "#!pip install numpy\n",
        "import numpy as np"
      ]
    },
    {
      "cell_type": "markdown",
      "metadata": {
        "id": "wm9IRe3dntPn"
      },
      "source": [
        "# Section 1. N차원 배열 생성\n",
        "\n",
        "\n",
        "---\n",
        "\n"
      ]
    },
    {
      "cell_type": "markdown",
      "metadata": {
        "id": "EmXCx5mNcHjM"
      },
      "source": [
        "###**1-1. N차원 배열(ndarray) 생성하기**"
      ]
    },
    {
      "cell_type": "code",
      "execution_count": 5,
      "metadata": {
        "id": "3og5ML6WhpG2"
      },
      "outputs": [
        {
          "name": "stdout",
          "output_type": "stream",
          "text": [
            "<class 'numpy.ndarray'>\n",
            "[1.  2.  5.5]\n",
            "<class 'numpy.ndarray'>\n"
          ]
        }
      ],
      "source": [
        "# 1차원 배열 생성하기   #알리아싱\n",
        "arr1 = np.array([1,2,5.5])#5.5 때문에 실수로 자료형을 잡아준다. \n",
        "print(type(arr1))\n",
        "#결과 -> <class 'numpy.ndarray'>\n",
        "print(arr1)\n",
        "#결과 -> [1.  2.  3.  5.5]\n",
        "\n",
        "\n",
        "# 2차원 배열 생성하기\n",
        "arr2 =np.array([[1,2,3],\n",
        "        [4,5,6]])\n",
        "print(type(arr2))\n",
        "# <class 'numpy.ndarray'>"
      ]
    },
    {
      "cell_type": "code",
      "execution_count": 7,
      "metadata": {
        "id": "-y42frKaoPV6"
      },
      "outputs": [
        {
          "name": "stdout",
          "output_type": "stream",
          "text": [
            "[4 5 6]\n",
            "<class 'numpy.ndarray'>\n",
            "[1 2 3]\n",
            "<class 'numpy.ndarray'>\n",
            "[[1.  2.  3.4]\n",
            " [4.  5.  6. ]]\n"
          ]
        }
      ],
      "source": [
        "# list나 tuple로 N차원 배열 생성하기\n",
        "tpl = (4,5,6)\n",
        "arr = np.array(tpl)\n",
        "print(arr)\n",
        "print(type(arr))\n",
        "\n",
        "lst = [1,2,3]\n",
        "arr = np.array(lst)\n",
        "print(arr)\n",
        "lst2=[[1,2,3.4],[4,5,6]]\n",
        "\n",
        "arr2 = np.array(lst2)\n",
        "print(type(arr2))\n",
        "print(arr2)\n",
        "\n",
        "#[[1.  2.  3.4]\n",
        " #[4.  5.  6. ]]"
      ]
    },
    {
      "cell_type": "code",
      "execution_count": 9,
      "metadata": {
        "id": "ZubLsvjNo-gG"
      },
      "outputs": [
        {
          "name": "stdout",
          "output_type": "stream",
          "text": [
            "(3,) (2, 3)\n",
            "1 2\n",
            "3 6\n"
          ]
        }
      ],
      "source": [
        "# shape 확인하기\n",
        "print(arr1.shape, arr2.shape) # 결과 값 (3,)원소가 3개인 1차원 배열을 나타냄 즉, 행과 열을 튜플로 반환\n",
        "# ndim 확인하기\n",
        "print(arr1.ndim, arr2.ndim) # 차원을 리턴한다.\n",
        "# size 확인하기\n",
        "print(arr1.size,arr2.size)#행렬의 멤버의 개수를 반환해준다."
      ]
    },
    {
      "cell_type": "markdown",
      "metadata": {
        "id": "QXY0ge0cca4B"
      },
      "source": [
        "###**1-2. N차원 배열의 데이터 타입**"
      ]
    },
    {
      "cell_type": "code",
      "execution_count": 92,
      "metadata": {
        "id": "SgMEXOJtpvHf"
      },
      "outputs": [
        {
          "name": "stdout",
          "output_type": "stream",
          "text": [
            "[1 2 3] int32\n",
            "[1 3 3]\n",
            "[1. 2. 3.]\n",
            "[1. 2. 3.] float64\n",
            "[False  True  True  True]\n",
            "[False  True  True  True] bool\n",
            "['0' '1' '2' '3']\n",
            "['0' '1' '2' '3'] <U1\n",
            "[1. 2. 3.] float32\n"
          ]
        }
      ],
      "source": [
        "# 배열의 데이터 타입을 int로 지정하기\n",
        "arr1 = np.array([1,2,3], dtype = np.int_)\n",
        "print(arr1,arr1.dtype)\n",
        "#print(dir(arr1))\n",
        "# 배열의 데이터 타입을 float으로 지정하기\n",
        "arr2 = np.array([1,3,3.7],dtype=np.int_)#int_로 하면 버림한다.\n",
        "arr3 = np.array([1,2,3],dtype=np.float_)\n",
        "print(arr2)\n",
        "print(arr3)\n",
        "print(arr3,arr3.dtype)\n",
        "# 배열의 데이터 타입을 bool로 지정하기\n",
        "arr4 = np.array([0,1,2,3],dtype=np.bool_) # 0만 False 나머지는 True로 반환\n",
        "print(arr4)\n",
        "print(arr4,arr4.dtype)\n",
        "# 배열의 데이터 타입을 string으로 지정하기\n",
        "arr5 = np.array([0,1,2,3],dtype=np.str_) # 0만 False 나머지는 True로 반환\n",
        "print(arr5)\n",
        "print(arr5,arr5.dtype) #<U1 unicode 사용\n",
        "\n",
        "arr = arr3.astype(np.float32)\n",
        "print(arr, arr.dtype)"
      ]
    },
    {
      "cell_type": "code",
      "execution_count": 89,
      "metadata": {
        "id": "ZywZxpaRwXm3"
      },
      "outputs": [
        {
          "name": "stdout",
          "output_type": "stream",
          "text": [
            "[0 1 2 3] int32\n",
            "[0 1 2 3] int32 [0. 1. 2. 3.] float64 [0. 1. 2. 3.] float32\n",
            "[1.  2.  3.4] float64\n",
            "['1' '2' '3.4' '64'] <U32\n",
            "[ 1  2  3 64] int32\n",
            "['1' '2' '3.4' '64, 문자열'] <U7\n"
          ]
        }
      ],
      "source": [
        "# 배열의 데이터 타입 출력하기\n",
        "arr1 = np.array([0,1,2,3])\n",
        "print(arr1, arr.dtype)\n",
        "# 배열의 데이터를 함수를 이용하여 바꿔보기\n",
        "arr2 = np.array([0,1,2,3],dtype=np.float_)\n",
        "arr3 = np.array([0,1,2,3],dtype=np.float32)\n",
        "print(arr1, arr1.dtype, arr2, arr2.dtype, arr3, arr3.dtype)\n",
        "\n",
        "#데이터 타입이 혼재하는 경우\n",
        "arr = np.array([1,2,3.4])\n",
        "print(arr,arr.dtype)\n",
        "\n",
        "arr = np.array([1,2,3.4,\"64\"])\n",
        "print(arr, arr.dtype)\n",
        "\n",
        "arr = np.array([1,2,3.4,\"64\"],dtype=np.int_)\n",
        "print(arr, arr.dtype)\n",
        "\n",
        "#arr = np.array([1,2,3.4,\"64, 문자열\"],dtype=np.int_) #error 왜냐하면 문자열은 int로 처리할 수 없으므로\n",
        "#print(arr, arr.dtype)\n",
        "\n",
        "arr = np.array([1,2,3.4,\"64, 문자열\"],dtype=np.str_) #최악의 수단으로는 이렇게 문자로 받지만 단점은 통계적으로 사용이 불가능\n",
        "print(arr, arr.dtype)\n"
      ]
    },
    {
      "cell_type": "markdown",
      "metadata": {
        "id": "cXo22LP2nFWM"
      },
      "source": [
        "###**1-3. 정해진 형식의 N차원 배열 생성하기**"
      ]
    },
    {
      "cell_type": "code",
      "execution_count": 94,
      "metadata": {
        "id": "j1iKcUSWu5U4"
      },
      "outputs": [
        {
          "name": "stdout",
          "output_type": "stream",
          "text": [
            "[[0 0 0 0 0]\n",
            " [0 0 0 0 0]\n",
            " [0 0 0 0 0]\n",
            " [0 0 0 0 0]\n",
            " [0 0 0 0 0]\n",
            " [0 0 0 0 0]\n",
            " [0 0 0 0 0]]\n",
            "[[0. 0.]\n",
            " [0. 0.]]\n",
            "[0. 0.]\n",
            "[[1. 1. 1. 1. 1.]\n",
            " [1. 1. 1. 1. 1.]\n",
            " [1. 1. 1. 1. 1.]]\n",
            "[[5 5 5]\n",
            " [5 5 5]]\n",
            "[[1. 0. 0.]\n",
            " [0. 1. 0.]\n",
            " [0. 0. 1.]]\n",
            "[[1. 0. 0. 0.]\n",
            " [0. 1. 0. 0.]\n",
            " [0. 0. 1. 0.]]\n",
            "[[0. 1. 0. 0.]\n",
            " [0. 0. 1. 0.]\n",
            " [0. 0. 0. 1.]]\n",
            "[[0 0 0 0]\n",
            " [1 0 0 0]\n",
            " [0 1 0 0]]\n"
          ]
        }
      ],
      "source": [
        "# 모든 요소들이 0으로 초기화된 N차원 배열 생성하기\n",
        "# arg shape이라는 공통점이 있다.\n",
        "m = 5\n",
        "n =7\n",
        "arr6 = np.array([[0]*m for _ in range(n)])\n",
        "print(arr6)\n",
        "\n",
        "arr = np.zeros([2,2]) #shape 선언이라고 한다. ([행,열])\n",
        "print(arr)\n",
        "arr = np.zeros([2])\n",
        "print(arr)\n",
        "# 모든 요소들이 1로 초기화된 N차원 배열 생성하기\n",
        "arr = np.ones([3,5]) #3행 5열\n",
        "print(arr)\n",
        "\n",
        "# 모든 요소들이 지정된 fill_value로 초기화된 N차원 배열 생성하기\n",
        "arr = np.full((2,3),5) #arg가 (shape, value) 이므로 (행,열)을 사용한다. \n",
        "print(arr)\n",
        "# 모든 요소들이 지정된 fill_value로 초기화된 N차원 배열 생성하기\n",
        "\n",
        "\n",
        "# NxN 또는 (NXM) shape를 가진 대각 원소가 1인 행렬 생성하기\n",
        "arr = np.eye(3)# 정방 행열 shape 3 바이 3\n",
        "print(arr)\n",
        "# 전처리기 :\n",
        "arr = np.eye(3,4, k= 0) # np.eye()  행을 n 열을 m   n 바이 m 열을 만들면서 대각원소 값 선언  k=대각원소 발생 지점   \n",
        "print(arr)\n",
        "arr = np.eye(3,4, k= 1)\n",
        "print(arr)\n",
        "arr = np.eye(3,4, k= -1, dtype = np.int_)\n",
        "print(arr)\n",
        "\n"
      ]
    },
    {
      "cell_type": "code",
      "execution_count": 29,
      "metadata": {
        "id": "JwJ3L3ReyhbE"
      },
      "outputs": [
        {
          "name": "stdout",
          "output_type": "stream",
          "text": [
            "[[0 0 0]\n",
            " [0 0 0]]\n",
            "[[1 1 1]\n",
            " [1 1 1]]\n",
            "[[9 9 9]\n",
            " [9 9 9]]\n"
          ]
        }
      ],
      "source": [
        "arr = np.array([[1,2,3],\n",
        "                [4,5,6]])\n",
        "\n",
        "# 모든 요소들이 0으로 초기화된 N차원 배열로 변형하기        원본 배열과 동일한 shape을 가진 배열\n",
        "arr_z = np.zeros_like(arr)\n",
        "print(arr_z)\n",
        "# 모든 요소들이 1로 초기화된 N차원 배열로 변형하기\n",
        "arr_o = np.ones_like(arr)\n",
        "print(arr_o)\n",
        "# 모든 요소들이 지정된 fill_value로 초기화된 N차원 배열로 변형하기\n",
        "arr_f = np.full_like(arr,9)#arg : array, full_value\n",
        "print(arr_f)"
      ]
    },
    {
      "cell_type": "markdown",
      "metadata": {
        "id": "5ZV_Z7NgnG0T"
      },
      "source": [
        "###**1-4. 특정 범위의 값을 가지는 N차원 배열 생성하기**"
      ]
    },
    {
      "cell_type": "code",
      "execution_count": 98,
      "metadata": {
        "id": "PWyHpz6V1dKY"
      },
      "outputs": [
        {
          "name": "stdout",
          "output_type": "stream",
          "text": [
            "[0 1 2 3 4 5 6 7 8]\n",
            "[ 3  5  7  9 11]\n",
            "[0 2 4 6 8]\n",
            "<class 'numpy.ndarray'>\n",
            "[ 0 11 22 33 44 55 66 77 88 99] [  0.  10.  20.  30.  40.  50.  60.  70.  80.  90. 100.] [  0.           0.40160643   0.80321285   1.20481928   1.6064257\n",
            "   2.00803213   2.40963855   2.81124498   3.21285141   3.61445783\n",
            "   4.01606426   4.41767068   4.81927711   5.22088353   5.62248996\n",
            "   6.02409639   6.42570281   6.82730924   7.22891566   7.63052209\n",
            "   8.03212851   8.43373494   8.83534137   9.23694779   9.63855422\n",
            "  10.04016064  10.44176707  10.84337349  11.24497992  11.64658635\n",
            "  12.04819277  12.4497992   12.85140562  13.25301205  13.65461847\n",
            "  14.0562249   14.45783133  14.85943775  15.26104418  15.6626506\n",
            "  16.06425703  16.46586345  16.86746988  17.26907631  17.67068273\n",
            "  18.07228916  18.47389558  18.87550201  19.27710843  19.67871486\n",
            "  20.08032129  20.48192771  20.88353414  21.28514056  21.68674699\n",
            "  22.08835341  22.48995984  22.89156627  23.29317269  23.69477912\n",
            "  24.09638554  24.49799197  24.89959839  25.30120482  25.70281124\n",
            "  26.10441767  26.5060241   26.90763052  27.30923695  27.71084337\n",
            "  28.1124498   28.51405622  28.91566265  29.31726908  29.7188755\n",
            "  30.12048193  30.52208835  30.92369478  31.3253012   31.72690763\n",
            "  32.12851406  32.53012048  32.93172691  33.33333333  33.73493976\n",
            "  34.13654618  34.53815261  34.93975904  35.34136546  35.74297189\n",
            "  36.14457831  36.54618474  36.94779116  37.34939759  37.75100402\n",
            "  38.15261044  38.55421687  38.95582329  39.35742972  39.75903614\n",
            "  40.16064257  40.562249    40.96385542  41.36546185  41.76706827\n",
            "  42.1686747   42.57028112  42.97188755  43.37349398  43.7751004\n",
            "  44.17670683  44.57831325  44.97991968  45.3815261   45.78313253\n",
            "  46.18473896  46.58634538  46.98795181  47.38955823  47.79116466\n",
            "  48.19277108  48.59437751  48.99598394  49.39759036  49.79919679\n",
            "  50.20080321  50.60240964  51.00401606  51.40562249  51.80722892\n",
            "  52.20883534  52.61044177  53.01204819  53.41365462  53.81526104\n",
            "  54.21686747  54.6184739   55.02008032  55.42168675  55.82329317\n",
            "  56.2248996   56.62650602  57.02811245  57.42971888  57.8313253\n",
            "  58.23293173  58.63453815  59.03614458  59.437751    59.83935743\n",
            "  60.24096386  60.64257028  61.04417671  61.44578313  61.84738956\n",
            "  62.24899598  62.65060241  63.05220884  63.45381526  63.85542169\n",
            "  64.25702811  64.65863454  65.06024096  65.46184739  65.86345382\n",
            "  66.26506024  66.66666667  67.06827309  67.46987952  67.87148594\n",
            "  68.27309237  68.6746988   69.07630522  69.47791165  69.87951807\n",
            "  70.2811245   70.68273092  71.08433735  71.48594378  71.8875502\n",
            "  72.28915663  72.69076305  73.09236948  73.4939759   73.89558233\n",
            "  74.29718876  74.69879518  75.10040161  75.50200803  75.90361446\n",
            "  76.30522088  76.70682731  77.10843373  77.51004016  77.91164659\n",
            "  78.31325301  78.71485944  79.11646586  79.51807229  79.91967871\n",
            "  80.32128514  80.72289157  81.12449799  81.52610442  81.92771084\n",
            "  82.32931727  82.73092369  83.13253012  83.53413655  83.93574297\n",
            "  84.3373494   84.73895582  85.14056225  85.54216867  85.9437751\n",
            "  86.34538153  86.74698795  87.14859438  87.5502008   87.95180723\n",
            "  88.35341365  88.75502008  89.15662651  89.55823293  89.95983936\n",
            "  90.36144578  90.76305221  91.16465863  91.56626506  91.96787149\n",
            "  92.36947791  92.77108434  93.17269076  93.57429719  93.97590361\n",
            "  94.37751004  94.77911647  95.18072289  95.58232932  95.98393574\n",
            "  96.38554217  96.78714859  97.18875502  97.59036145  97.99196787\n",
            "  98.3935743   98.79518072  99.19678715  99.59839357 100.        ]\n",
            "[ 1.  2.  3.  4.  5.  6.  7.  8.  9. 10.] [   2    4    8   16   32   64  128  256  512 1024] [         10         100        1000       10000      100000     1000000\n",
            "    10000000   100000000  1000000000 -2147483648] "
          ]
        }
      ],
      "source": [
        "# 특정 범위의 값을 가지는 N차원 배열을 생성하는 함수 3가지 작성하기\n",
        "arr = np.arange(9)\n",
        "print(arr)\n",
        "\n",
        "arr = np.arange(3, 13, 2)\n",
        "print(arr)\n",
        "\n",
        "arr = np.arange(start = 0, stop = 9, step = 2) #np.arrange(0,9,2)\n",
        "print(arr)\n",
        "print(type(arr))\n",
        "\n",
        "# [0 1 2 3 4 5 6 7 8]\n",
        "# [ 3  5  7  9 11]\n",
        "# [0 2 4 6 8]\n",
        "# <class 'numpy.ndarray'>\n",
        "\n",
        "\n",
        "#np.linspace() arange와 유사 차이점은 stop 값이 arange는 지정 값 보다 하나 작은 값끼지 지정이 가능하고 \n",
        "# linspace는 stop보다 더 큰 값까지 사용이 가능하다.\n",
        "#250개를 균일하게 나눠서 사용할 수 있다.\n",
        "arr = np.arange(0,100,11)\n",
        "arr1 = np.linspace(0,100,11) #0~100 같은 간격으로 11 표본을 추출\n",
        "arr2 = np.linspace(0,100,250) #0~100 같은 간격으로 250 개를 추출 해라\n",
        "print(arr,arr1,arr2)\n",
        "\n",
        "\n",
        "\n",
        "#logspace \n",
        "\n",
        "arr = np.linspace(1,10,10)\n",
        "print(arr, end=\" \")# \\를 문자 그대로 사용했다.\n",
        "arr = np.logspace(1,10,10, base = 2, dtype=np.int_)\n",
        "print(arr, end=\" \")\n",
        "arr = np.logspace(1,10,10) #base default = 10\n",
        "print(arr, end=\" \")\n",
        "\n",
        "\n"
      ]
    },
    {
      "cell_type": "markdown",
      "metadata": {
        "id": "LSXPPL9snHGJ"
      },
      "source": [
        "###**1-5. 난수로 이루어진 N차원 배열 생성하기**"
      ]
    },
    {
      "cell_type": "code",
      "execution_count": 37,
      "metadata": {
        "id": "fzJtmBpbPujM"
      },
      "outputs": [
        {
          "name": "stdout",
          "output_type": "stream",
          "text": [
            "Requirement already satisfied: matplotlib in c:\\users\\user\\.conda\\envs\\py39\\lib\\site-packages (3.5.1)\n",
            "Requirement already satisfied: pyparsing>=2.2.1 in c:\\users\\user\\.conda\\envs\\py39\\lib\\site-packages (from matplotlib) (3.0.4)\n",
            "Requirement already satisfied: packaging>=20.0 in c:\\users\\user\\.conda\\envs\\py39\\lib\\site-packages (from matplotlib) (21.3)\n",
            "Requirement already satisfied: python-dateutil>=2.7 in c:\\users\\user\\.conda\\envs\\py39\\lib\\site-packages (from matplotlib) (2.8.2)\n",
            "Requirement already satisfied: numpy>=1.17 in c:\\users\\user\\.conda\\envs\\py39\\lib\\site-packages (from matplotlib) (1.22.3)\n",
            "Requirement already satisfied: kiwisolver>=1.0.1 in c:\\users\\user\\.conda\\envs\\py39\\lib\\site-packages (from matplotlib) (1.4.2)\n",
            "Requirement already satisfied: pillow>=6.2.0 in c:\\users\\user\\.conda\\envs\\py39\\lib\\site-packages (from matplotlib) (9.1.0)\n",
            "Requirement already satisfied: fonttools>=4.22.0 in c:\\users\\user\\.conda\\envs\\py39\\lib\\site-packages (from matplotlib) (4.32.0)\n",
            "Requirement already satisfied: cycler>=0.10 in c:\\users\\user\\.conda\\envs\\py39\\lib\\site-packages (from matplotlib) (0.11.0)\n",
            "Requirement already satisfied: six>=1.5 in c:\\users\\user\\.conda\\envs\\py39\\lib\\site-packages (from python-dateutil>=2.7->matplotlib) (1.16.0)\n"
          ]
        }
      ],
      "source": [
        "# 데이터 시각화 라이브러리 matplotlib을 설치하고 import 하기\n",
        "#!pip install matplotlib\n",
        "#!pip install pandas\n",
        "import matplotlib as plt"
      ]
    },
    {
      "cell_type": "code",
      "execution_count": 111,
      "metadata": {
        "id": "9OoTUtTFMB_h"
      },
      "outputs": [
        {
          "name": "stdout",
          "output_type": "stream",
          "text": [
            "[         10         100        1000       10000      100000     1000000\n",
            "    10000000   100000000  1000000000 -2147483648]\n"
          ]
        },
        {
          "data": {
            "image/png": "[encoded data removed]",
            "text/plain": [
              "<Figure size 432x288 with 1 Axes>"
            ]
          },
          "metadata": {
            "needs_background": "light"
          },
          "output_type": "display_data"
        },
        {
          "data": {
            "image/png": "[encoded data removed]",
            "text/plain": [
              "<Figure size 432x288 with 1 Axes>"
            ]
          },
          "metadata": {
            "needs_background": "light"
          },
          "output_type": "display_data"
        }
      ],
      "source": [
        "import matplotlib.pyplot as plt\n",
        "\n",
        "\n",
        "# 정규 분포로 표본을 추출하는 난수 생성 함수 작성하기\n",
        "# np.random.normal()     정규 분포의 확률 밀도에서 표본을 추출하는 함수\n",
        "# np.random.normal(정규분포의 평균, 표준편차, 추출할 표본 개수)\n",
        "arr1 = np.random.normal(0,1,10)\n",
        "print(arr)\n",
        "\n",
        "arr2 = np.random.normal(0,1,(2,3))\n",
        "plt.hist(arr2,bins = 10)\n",
        "plt.show()\n",
        "arr3 = np.random.normal(0,5,100000)\n",
        "plt.hist(arr3, bins = 100) # bins 난수를 몇개의 구간으로 구분하여 \n",
        "plt.show()\n",
        "# 균등 분포로 표본을 추출하는 난수 생성 함수 작성하기\n",
        "\n",
        "# 랜덤한 정수를 생성하는  함수 작성하기\n",
        "\n",
        "# random 모듈에 존재하는 함수를 활용하여 표본을 추출하고 데이터를 시각화하기\n",
        "\n",
        "\n",
        "\n",
        "\n"
      ]
    },
    {
      "cell_type": "markdown",
      "metadata": {
        "id": "jmIo-qNCXNgG"
      },
      "source": [
        "###**1-6. 시드(Seed)값을 통한 난수 생성 제어**"
      ]
    },
    {
      "cell_type": "code",
      "execution_count": null,
      "metadata": {
        "id": "ho3sdP6aXhou"
      },
      "outputs": [],
      "source": [
        "# 시드 값을 이용해 난수의 발생 지점을 고정하기\n",
        "arr = np.random.rand(10)\n",
        "print(\"난수 발생1 \\n\", arr)\n",
        "\n",
        "arr = np.random.rand(10)\n",
        "print(\"난수 발생2 \\n\", arr)\n",
        "\n",
        "np.random.seed(10)   # 시작점을 지정\n",
        "arr = np.random.rand(10)\n",
        "print(\"난수 발생1 \\n\", arr)\n",
        "\n",
        "np.random.seed(10)   # 시작점을 지정    동일한 난수가 나옴 \n",
        "arr = np.random.rand(10)\n",
        "print(\"난수 발생2 \\n\", arr)\n"
      ]
    },
    {
      "cell_type": "markdown",
      "metadata": {
        "id": "UR-RDctk70Rv"
      },
      "source": [
        "# Section 2. N차원 배열의 인덱싱\n",
        "---\n",
        "\n"
      ]
    },
    {
      "cell_type": "markdown",
      "metadata": {
        "id": "9vCxyMts8Ms5"
      },
      "source": [
        "###**2-1. 배열의 index 접근하기**"
      ]
    },
    {
      "cell_type": "code",
      "execution_count": null,
      "metadata": {
        "id": "NQtPOm3L88qR"
      },
      "outputs": [],
      "source": [
        "# 1차원 배열 인덱스 접근하기\n",
        "arr = np.array([0,1,2,3,4,5,6,7,8,9])\n",
        "arr = np.arange(10)\n",
        "print(arr)\n",
        "# 1차원 배열에서 범위 값 탐색하기"
      ]
    },
    {
      "cell_type": "code",
      "execution_count": 43,
      "metadata": {
        "id": "5H9EjM-J-jll"
      },
      "outputs": [
        {
          "name": "stdout",
          "output_type": "stream",
          "text": [
            "[[ 1  2  3  4]\n",
            " [ 5  6  7  8]\n",
            " [ 9 10 11 12]] (3, 4) 2\n",
            "[1 2 3 4]\n",
            "4\n",
            "4\n",
            "7\n",
            "7\n",
            "[[ 9 10]]\n"
          ]
        }
      ],
      "source": [
        "# 2차원 배열 인덱스 접근하기\n",
        "arr = np.array([[1,2,3,4],\n",
        "                [5,6,7,8],\n",
        "                [9,10,11,12]])\n",
        "print(arr, arr.shape, arr.ndim)#[ 9 10 11 12]] (3, 4) 2\n",
        "print(arr[0])\n",
        "print(arr[0][3])\n",
        "print(arr[0, 3])\n",
        "print(arr[1, 2])\n",
        "print(arr[1][2])\n",
        "# 2차원 배열에서 범위 값 탐색하기\n",
        "\n",
        "print(arr[2:, :2])"
      ]
    },
    {
      "cell_type": "markdown",
      "metadata": {
        "id": "BRRFVk0_Cldw"
      },
      "source": [
        "###**2-2. 배열의 Fancy 인덱싱**"
      ]
    },
    {
      "cell_type": "code",
      "execution_count": null,
      "metadata": {
        "id": "nvbf72jyC8r4"
      },
      "outputs": [],
      "source": [
        "# 1차원 배열에서의 Fancy 인덱싱\n",
        "arr = np.array([5,10,15,20,25,30])\n",
        "print(arr[[0,2,4]])\n",
        "# 2차원 배열에서의 Fancy 인덱싱\n",
        "arr = np.array([[5,10,15,20],\n",
        "                [25,30,35,40],\n",
        "                [45,50,55,60]])\n"
      ]
    },
    {
      "cell_type": "markdown",
      "metadata": {
        "id": "LBCsd547E41L"
      },
      "source": [
        "###**2-3. 배열의 Boolean 인덱싱**"
      ]
    },
    {
      "cell_type": "code",
      "execution_count": 45,
      "metadata": {
        "id": "BanXYbmhE9c1"
      },
      "outputs": [
        {
          "name": "stdout",
          "output_type": "stream",
          "text": [
            "[1 3 4]\n",
            "[[1 2 3 4]]\n",
            "[]\n"
          ]
        },
        {
          "ename": "TypeError",
          "evalue": "Field elements must be 2- or 3-tuples, got '5'",
          "output_type": "error",
          "traceback": [
            "\u001b[1;31m---------------------------------------------------------------------------\u001b[0m",
            "\u001b[1;31mTypeError\u001b[0m                                 Traceback (most recent call last)",
            "\u001b[1;32mc:\\Users\\user\\python workspace\\20220411\\NumPy_실습용.ipynb Cell 30'\u001b[0m in \u001b[0;36m<cell line: 9>\u001b[1;34m()\u001b[0m\n\u001b[0;32m      <a href='vscode-notebook-cell:/c%3A/Users/user/python%20workspace/20220411/NumPy_%EC%8B%A4%EC%8A%B5%EC%9A%A9.ipynb#ch0000029?line=6'>7</a>\u001b[0m \u001b[39mprint\u001b[39m(arr[[\u001b[39mTrue\u001b[39;00m, \u001b[39mFalse\u001b[39;00m], \u001b[39mTrue\u001b[39;00m,\u001b[39mTrue\u001b[39;00m,\u001b[39mFalse\u001b[39;00m,\u001b[39mTrue\u001b[39;00m])\u001b[39m#0행에서 index 2만 제외하고 가져와라\u001b[39;00m\n\u001b[0;32m      <a href='vscode-notebook-cell:/c%3A/Users/user/python%20workspace/20220411/NumPy_%EC%8B%A4%EC%8A%B5%EC%9A%A9.ipynb#ch0000029?line=7'>8</a>\u001b[0m \u001b[39m# 조건 연산자를 활용하여 조건에 맞는 배열의 값만 출력하기\u001b[39;00m\n\u001b[1;32m----> <a href='vscode-notebook-cell:/c%3A/Users/user/python%20workspace/20220411/NumPy_%EC%8B%A4%EC%8A%B5%EC%9A%A9.ipynb#ch0000029?line=8'>9</a>\u001b[0m arr \u001b[39m=\u001b[39m np\u001b[39m.\u001b[39;49marray([\u001b[39m1\u001b[39;49m,\u001b[39m2\u001b[39;49m,\u001b[39m3\u001b[39;49m,\u001b[39m4\u001b[39;49m],\n\u001b[0;32m     <a href='vscode-notebook-cell:/c%3A/Users/user/python%20workspace/20220411/NumPy_%EC%8B%A4%EC%8A%B5%EC%9A%A9.ipynb#ch0000029?line=9'>10</a>\u001b[0m                [\u001b[39m5\u001b[39;49m,\u001b[39m6\u001b[39;49m,\u001b[39m7\u001b[39;49m,\u001b[39m8\u001b[39;49m])\n\u001b[0;32m     <a href='vscode-notebook-cell:/c%3A/Users/user/python%20workspace/20220411/NumPy_%EC%8B%A4%EC%8A%B5%EC%9A%A9.ipynb#ch0000029?line=10'>11</a>\u001b[0m \u001b[39mprint\u001b[39m(arr[arr \u001b[39m>\u001b[39m\u001b[39m3\u001b[39m])\n",
            "\u001b[1;31mTypeError\u001b[0m: Field elements must be 2- or 3-tuples, got '5'"
          ]
        }
      ],
      "source": [
        "# Boolean 값을 이용한 배열 인덱싱\n",
        "arr = np.array([1,2,3,4])\n",
        "print(arr[[True,False, True, True]])#매핑이 되어서 False부분은 안 나온다.\n",
        "arr = np.array([[1,2,3,4],\n",
        "                [5,6,7,8]])\n",
        "print(arr[[True, False], True])#([True, False] : 행에 대한 true, false, True: 각 행에 대한 bool)\n",
        "print(arr[[True, False], True,True,False,True])#0행에서 index 2만 제외하고 가져와라\n",
        "# 조건 연산자를 활용하여 조건에 맞는 배열의 값만 출력하기\n",
        "arr = np.array([1,2,3,4],\n",
        "               [5,6,7,8])\n",
        "print(arr[arr >3])"
      ]
    },
    {
      "cell_type": "markdown",
      "metadata": {
        "id": "T1bggqQj9lHK"
      },
      "source": [
        "# Section 3. N차원 배열 연산법\n",
        "\n",
        "---\n",
        "\n"
      ]
    },
    {
      "cell_type": "markdown",
      "metadata": {
        "id": "MN_hFeFQh1Qa"
      },
      "source": [
        "###**3-1. 배열의 연산1**"
      ]
    },
    {
      "cell_type": "code",
      "execution_count": 47,
      "metadata": {
        "id": "I5NfNwegRpaN"
      },
      "outputs": [
        {
          "name": "stdout",
          "output_type": "stream",
          "text": [
            "[[1 2 3]\n",
            " [4 5 6]\n",
            " [7 8 9]]\n",
            "[[2 2 2]\n",
            " [2 2 2]\n",
            " [2 2 2]]\n",
            "[[ 3  4  5]\n",
            " [ 6  7  8]\n",
            " [ 9 10 11]]\n",
            "[[ 3  4  5]\n",
            " [ 6  7  8]\n",
            " [ 9 10 11]]\n"
          ]
        }
      ],
      "source": [
        "arr1 = np.array([[1,2,3],\n",
        "                [4,5,6],\n",
        "                [7,8,9]])\n",
        "arr2 = np.array([[2,2,2],\n",
        "                [2,2,2],\n",
        "                [2,2,2]])\n",
        "# arr3 = np.array([[2,2],\n",
        "#                 [2,2],\n",
        "#                 [2,2]]) 행과 열이 반드시 같아야 한다.\n",
        "print(arr1)\n",
        "print(arr2)\n",
        "# 배열의 덧셈 연산\n",
        "\n",
        "print(arr1 + arr2)\n",
        "print(np.add(arr1,arr2))# 결과가 같다"
      ]
    },
    {
      "cell_type": "code",
      "execution_count": 50,
      "metadata": {
        "id": "mi0Qo5OC9WdD"
      },
      "outputs": [
        {
          "name": "stdout",
          "output_type": "stream",
          "text": [
            "[[-1  0  1]\n",
            " [ 2  3  4]\n",
            " [ 5  6  7]]\n",
            "[[-1  0  1]\n",
            " [ 2  3  4]\n",
            " [ 5  6  7]]\n"
          ]
        }
      ],
      "source": [
        "# 배열의 뺄셈 연산\n",
        "print(arr1 - arr2)\n",
        "print(np.subtract(arr1,arr2))"
      ]
    },
    {
      "cell_type": "code",
      "execution_count": 49,
      "metadata": {
        "id": "aY98m2Xw9YCC"
      },
      "outputs": [
        {
          "name": "stdout",
          "output_type": "stream",
          "text": [
            "[[ 2  4  6]\n",
            " [ 8 10 12]\n",
            " [14 16 18]]\n",
            "[[ 2  4  6]\n",
            " [ 8 10 12]\n",
            " [14 16 18]]\n"
          ]
        }
      ],
      "source": [
        "# 배열의 곱셈 연산 (원소 단위)\n",
        "print(arr1 * arr2)\n",
        "print(np.multiply(arr1,arr2))"
      ]
    },
    {
      "cell_type": "code",
      "execution_count": 48,
      "metadata": {
        "id": "fRZhs1Bh9Zuk"
      },
      "outputs": [
        {
          "name": "stdout",
          "output_type": "stream",
          "text": [
            "[[0.5 1.  1.5]\n",
            " [2.  2.5 3. ]\n",
            " [3.5 4.  4.5]]\n",
            "[[0.5 1.  1.5]\n",
            " [2.  2.5 3. ]\n",
            " [3.5 4.  4.5]]\n"
          ]
        }
      ],
      "source": [
        "# 배열의 나눗셈 연산\n",
        "print(arr1 / arr2)\n",
        "print(np.divide(arr1,arr2))"
      ]
    },
    {
      "cell_type": "code",
      "execution_count": 56,
      "metadata": {
        "id": "r_G4DT409czB"
      },
      "outputs": [
        {
          "name": "stdout",
          "output_type": "stream",
          "text": [
            "[[         1         16      19683]\n",
            " [         0  167814181          0]\n",
            " [ -82408569          0 -119833463]]\n",
            "[[ 1  4  9]\n",
            " [16 25 36]\n",
            " [49 64 81]]\n",
            "[[1.         1.41421356 1.73205081]\n",
            " [2.         2.23606798 2.44948974]\n",
            " [2.64575131 2.82842712 3.        ]]\n"
          ]
        }
      ],
      "source": [
        "# 배열의 제곱, 제곱근 연산\n",
        "print(arr1 ** arr2)\n",
        "print(np.square(arr1))\n",
        "print(np.sqrt(arr1))"
      ]
    },
    {
      "cell_type": "code",
      "execution_count": 51,
      "metadata": {
        "id": "enl82hzU9dyN"
      },
      "outputs": [
        {
          "name": "stdout",
          "output_type": "stream",
          "text": [
            "[[1 0 1]\n",
            " [0 1 0]\n",
            " [1 0 1]]\n",
            "[[0 1 1]\n",
            " [2 2 3]\n",
            " [3 4 4]]\n"
          ]
        }
      ],
      "source": [
        "# 배열의 몫, 나머지 연산 (mod)\n",
        "print(arr1 % arr2)\n",
        "print(arr1 // arr2)"
      ]
    },
    {
      "cell_type": "markdown",
      "metadata": {
        "id": "_cAANOjph9DU"
      },
      "source": [
        "###**3-2. 배열의 연산2**"
      ]
    },
    {
      "cell_type": "code",
      "execution_count": 60,
      "metadata": {
        "colab": {
          "base_uri": "https://localhost:8080/"
        },
        "id": "FyahGOuvh9t6",
        "outputId": "e2d7cd5c-0d2f-4ef4-f065-ee5de192d7a9"
      },
      "outputs": [
        {
          "name": "stdout",
          "output_type": "stream",
          "text": [
            "[[19 28]\n",
            " [13 19]]\n"
          ]
        }
      ],
      "source": [
        "# dot product (내적 연산)\n",
        "''' \n",
        "< dot product 의 연산 과정 >\n",
        "[[a, b]   [[e, f]       [[ae + bg, af + bh]   \n",
        " [c, d]]   [g, h]]  =>   [ce + dg, cf + dh]]\n",
        "'''\n",
        "arr1 = np.array([[2,3,4],\n",
        "                [1,2,3]])\n",
        "arr2 = np.array([[2,3],\n",
        "                [1,2],\n",
        "                [3,4]])\n",
        "print(np.dot(arr1,arr2))\n"
      ]
    },
    {
      "cell_type": "code",
      "execution_count": null,
      "metadata": {
        "id": "-eaEWyEui01M"
      },
      "outputs": [],
      "source": [
        "# 절댓값 연산\n",
        "arr1 = np.array([[1,-2],\n",
        "                 [-4,5]])\n",
        "print(np.abs(arr1))"
      ]
    },
    {
      "cell_type": "code",
      "execution_count": 61,
      "metadata": {
        "id": "hbQkAZD0j1U1"
      },
      "outputs": [
        {
          "name": "stdout",
          "output_type": "stream",
          "text": [
            "[[ 2. -2.]\n",
            " [-4.  6.]]\n",
            "[[ 1. -3.]\n",
            " [-5.  5.]]\n",
            "[[ 2. -2.]\n",
            " [-4.  5.]]\n",
            "[[ 1. -2.]\n",
            " [-4.  5.]]\n"
          ]
        }
      ],
      "source": [
        "arr1 = np.array([[1.932,-2.339],\n",
        "                 [-4.145,5.206]])\n",
        "# 올림\n",
        "print(np.ceil(arr1))\n",
        "\n",
        "# 내림\n",
        "print(np.floor(arr1))\n",
        "\n",
        "# 반올림\n",
        "print(np.round(arr1))\n",
        "\n",
        "# 버림\n",
        "print(np.trunc(arr1))\n"
      ]
    },
    {
      "cell_type": "markdown",
      "metadata": {
        "id": "K85JpQbAk6cE"
      },
      "source": [
        "###**3-3. 배열의 연산3**"
      ]
    },
    {
      "cell_type": "code",
      "execution_count": 64,
      "metadata": {
        "id": "UbMM85A-l1WK"
      },
      "outputs": [
        {
          "name": "stdout",
          "output_type": "stream",
          "text": [
            "0\n",
            "0\n",
            "[0 1 3]\n",
            "[1 0]\n",
            "4\n",
            "4\n",
            "[1 2 4]\n",
            "[3 4]\n",
            "11\n",
            "11\n",
            "[1 3 7]\n",
            "[6 5]\n",
            "1.8333333333333333\n",
            "1.8333333333333333\n",
            "[0.5 1.5 3.5]\n",
            "[2.         1.66666667]\n",
            "1.343709624716425\n",
            "1.343709624716425\n",
            "[0.5 0.5 0.5]\n",
            "[0.81649658 1.69967317]\n"
          ]
        }
      ],
      "source": [
        "# 1차원에서 axis = 0 일때 ----------->\n",
        "# 2차원에서 axis = 0 는  |\n",
        "#            아래       \\/\n",
        "\n",
        "\n",
        "\n",
        "# 배열의 최솟값 구하기\n",
        "arr = np.array([[1,2,3],\n",
        "                [0,1,4]])\n",
        "\n",
        "print(np.min(arr))\n",
        "print(arr.min()) #from numpy import min\n",
        "print(arr.min(axis = 0))#axis = 0은 세로 열끼리 비교, axis = 1은 행이다 따라서 axis = 0은 행끼리 비교 \n",
        "#[0,1,3]\n",
        "print(arr.min(axis = 1))\n",
        "#[1,0]\n",
        "\n",
        "\n",
        "# 배열의 최댓값 구하기\n",
        "print(np.max(arr))\n",
        "print(arr.max()) #from numpy import min\n",
        "print(arr.max(axis = 0))#axis = 0은 세로 열끼리 비교, axis = 1은 행이다 따라서 axis = 0은 행끼리 비교 \n",
        "print(arr.max(axis = 1))\n",
        "\n",
        "\n",
        "# 배열의 원소 합 구하기\n",
        "print(np.sum(arr))\n",
        "print(arr.sum()) #from numpy import min\n",
        "print(arr.sum(axis = 0))#axis = 0은 세로 열끼리 비교, axis = 1은 행이다 따라서 axis = 0은 행끼리 비교 \n",
        "print(arr.sum(axis = 1))\n",
        "\n",
        "\n",
        "# 배열 원소의 평균값 구하기\n",
        "print(np.mean(arr))\n",
        "print(arr.mean()) #from numpy import min\n",
        "print(arr.mean(axis = 0))#axis = 0은 세로 열끼리 비교, axis = 1은 행이다 따라서 axis = 0은 행끼리 비교 \n",
        "print(arr.mean(axis = 1))\n",
        "\n",
        "\n",
        "\n",
        "# 배열 원소의 표준편차 구하기\n",
        "print(np.std(arr))\n",
        "print(arr.std()) #from numpy import min\n",
        "print(arr.std(axis = 0))#axis = 0은 세로 열끼리 비교, axis = 1은 행이다 따라서 axis = 0은 행끼리 비교 \n",
        "print(arr.std(axis = 1))\n",
        "\n",
        "\n",
        "\n",
        "\n",
        "# 배열 원소의 누적 합 구하기\n",
        "print(np.cunsum(arr))\n",
        "print(arr.cunsum()) #from numpy import min\n",
        "print(arr.cunsum(axis = 0))#axis = 0은 세로 열끼리 비교, axis = 1은 행이다 따라서 axis = 0은 행끼리 비교 \n",
        "print(arr.cunsum(axis = 1))\n",
        "\n",
        "\n",
        "\n",
        "# 배열 원소의 중앙값 구하기\n",
        "print(np.median(arr))\n",
        "print(arr.median()) #from numpy import min\n",
        "print(arr.median(axis = 0))#axis = 0은 세로 열끼리 비교, axis = 1은 행이다 따라서 axis = 0은 행끼리 비교 \n",
        "print(arr.median(axis = 1))"
      ]
    },
    {
      "cell_type": "markdown",
      "metadata": {
        "id": "ZHJxlHwynRQV"
      },
      "source": [
        "###**3-4. 배열의 연산4: 비교 연산/삼각 함수**"
      ]
    },
    {
      "cell_type": "code",
      "execution_count": 75,
      "metadata": {
        "id": "h9gTXQLkwrSS"
      },
      "outputs": [
        {
          "name": "stdout",
          "output_type": "stream",
          "text": [
            "[[ True False  True]\n",
            " [ True False False]]\n",
            "[[ True  True  True]\n",
            " [ True  True False]]\n",
            "False\n"
          ]
        }
      ],
      "source": [
        "arr1 = np.array([[1,2,3],\n",
        "                [4,5,6]])\n",
        "arr2 = np.array([[1,0,3],\n",
        "                [4,-2,9]])\n",
        "\n",
        "# 비교 연산자를 이용한 배열 연산하기 # bool\n",
        "print(arr1 == arr2)\n",
        "print(arr1 >= arr2)\n",
        "\n",
        "# 배열 전체의 동일 여부 비교하기\n",
        "print(np.array_equal(arr1, arr2))"
      ]
    },
    {
      "cell_type": "code",
      "execution_count": 74,
      "metadata": {
        "id": "RSkup69hws-b"
      },
      "outputs": [
        {
          "name": "stdout",
          "output_type": "stream",
          "text": [
            "[[ 0.84147098  0.90929743  0.14112001]\n",
            " [-0.7568025  -0.95892427 -0.2794155 ]]\n",
            "[[ 0.54030231 -0.41614684 -0.9899925 ]\n",
            " [-0.65364362  0.28366219  0.96017029]]\n",
            "[[ 1.55740772 -2.18503986 -0.14254654]\n",
            " [ 1.15782128 -3.38051501 -0.29100619]]\n",
            "3.141592653589793\n"
          ]
        }
      ],
      "source": [
        "arr = np.array([[1,2,3],\n",
        "                [4,5,6]])\n",
        "# sin() 삼각함수 sin값 구하기\n",
        "print(np.sin(arr))\n",
        "# cos() 삼각함수 cos값 구하기\n",
        "print(np.cos(arr))\n",
        "# tan() 삼각함수 tan값 구하기\n",
        "print(np.tan(arr))\n",
        "# pi 값 출력하기\n",
        "print(np.pi)\n"
      ]
    },
    {
      "cell_type": "markdown",
      "metadata": {
        "id": "F3Q-Z7ueLlHC"
      },
      "source": [
        "###**3-5. 브로드캐스팅(Broadcasting)**"
      ]
    },
    {
      "cell_type": "code",
      "execution_count": null,
      "metadata": {
        "id": "m_9yTQ8l-j48"
      },
      "outputs": [],
      "source": [
        "# shape이 다른 두 ndarray의 연산 실행하기\n",
        "\"\"\"\n",
        "(broadcasting)\n",
        "0 0 0\t\t\t\t0 0 0\t    \t5 6 7\t                   \t5 6 7 \n",
        "1 1 1   +   5 6 7   =   1 1 1     +  \t5 6 7    = \t6 7 8\n",
        "2 2 2 \t\t\t2 2 2 \t   \t5 6 7 \t\t                7 8 9\n",
        "\n",
        "          0     1 1 1     0 0 0     1 1 1 \n",
        "1 1 1  +  1  =  1 1 1  +  1 1 1  =  2 2 2 \n",
        "          2     1 1 1     2 2 2     3 3 3 \n",
        "\"\"\"\n",
        "# shape이 다른 두 ndarray의 연산 실행하기\n",
        "arr1 = np.array([[0,0,0],\n",
        "                [1,1,1],\n",
        "                 [2,2,2]])\n",
        "arr2 = np.array([[5,6,7]])\n",
        "\n",
        "print(arr1 + arr2)\n",
        "\n",
        "arr1 = np.array([[1,1,1]])\n",
        "arr2 = np.array([[0],\n",
        "                [1],\n",
        "                 [2]])\n",
        "print(arr1 + arr2)"
      ]
    },
    {
      "cell_type": "markdown",
      "metadata": {
        "id": "5m8pRzVk8Ii5"
      },
      "source": [
        "###**3-6. 벡터 연산의 장점**"
      ]
    },
    {
      "cell_type": "code",
      "execution_count": 80,
      "metadata": {
        "id": "dkeH6fN18P_D"
      },
      "outputs": [],
      "source": [
        "# 시간을 계산해주는 패키지 import 하기\n",
        "import time\n",
        "\n",
        "arr1 = np.arange(99999999)\n",
        "arr2 = np.arange(99999999)\n",
        "sum = 0"
      ]
    },
    {
      "cell_type": "code",
      "execution_count": 82,
      "metadata": {
        "id": "aIpzgke-9bEN"
      },
      "outputs": [
        {
          "name": "stderr",
          "output_type": "stream",
          "text": [
            "C:\\Users\\user\\AppData\\Local\\Temp\\ipykernel_1320\\3400413587.py:4: RuntimeWarning: overflow encountered in long_scalars\n",
            "  sum += i #arr1에서 parsing해서 i에다가 넣어준다.\n"
          ]
        },
        {
          "name": "stdout",
          "output_type": "stream",
          "text": [
            "1574919426 15.391147375106812 초\n",
            "1574919426 0.05478191375732422 초\n"
          ]
        },
        {
          "name": "stderr",
          "output_type": "stream",
          "text": [
            "C:\\Users\\user\\AppData\\Local\\Temp\\ipykernel_1320\\3400413587.py:16: RuntimeWarning: overflow encountered in long_scalars\n",
            "  sum2 += i*j\n"
          ]
        },
        {
          "name": "stdout",
          "output_type": "stream",
          "text": [
            "1574919426 112.09940433502197 초\n",
            "1167976319\n",
            "1574919426 0.061107635498046875 초\n"
          ]
        }
      ],
      "source": [
        "# 다음 두 배열에 대해서 for문을 통한 연산과 벡터 연산에서 어떤 차이가 있을까요?\n",
        "before = time.time()\n",
        "for i in arr1:\n",
        "    sum += i #arr1에서 parsing해서 i에다가 넣어준다.  \n",
        "after = time.time()\n",
        "print(sum, after - before,\"초\")\n",
        "\n",
        "before = time.time()\n",
        "sum1 = np.sum(arr2)\n",
        "after = time.time()\n",
        "print(sum, after - before,\"초\")#vector(배열)을 사용하면 시간 복잡도를 낮출 수 있다.\n",
        "\n",
        "sum2 = 0\n",
        "before = time.time()\n",
        "for i, j in zip(arr1,arr2):#zip : TUPLE로 만들어 주는 함수\n",
        "    sum2 += i*j\n",
        "after = time.time()\n",
        "print(sum, after - before,\"초\")\n",
        "\n",
        "\n",
        "before = time.time()\n",
        "sum3 = np.dot(arr1,arr2)\n",
        "print(sum3)\n",
        "after = time.time()\n",
        "print(sum, after - before,\"초\")\n"
      ]
    },
    {
      "cell_type": "markdown",
      "metadata": {
        "id": "jEjyU4vJyKNI"
      },
      "source": [
        "# Section 4. N차원 배열 정렬\n",
        "\n",
        "---\n",
        "\n"
      ]
    },
    {
      "cell_type": "markdown",
      "metadata": {
        "id": "5BCqSDdu6ps4"
      },
      "source": [
        "###**4-1. 1차원 배열의 정렬**"
      ]
    },
    {
      "cell_type": "code",
      "execution_count": 3,
      "metadata": {
        "id": "Avl4eyS30Gbm"
      },
      "outputs": [
        {
          "name": "stdout",
          "output_type": "stream",
          "text": [
            "None\n",
            "None\n"
          ]
        }
      ],
      "source": [
        "import numpy as np\n",
        "# 1차원 배열 오름차순 정렬하기\n",
        "arr = np.array([1,2,3,4,9,8])\n",
        "print(arr.sort())# ===========================\n",
        "# 1차원 배열 내림차순 정렬하기\n",
        "print(arr.sort())"
      ]
    },
    {
      "cell_type": "markdown",
      "metadata": {
        "id": "IlLUWwUY6wNb"
      },
      "source": [
        "###**4-2. 2차원 배열의 정렬**"
      ]
    },
    {
      "cell_type": "code",
      "execution_count": null,
      "metadata": {
        "id": "bmv88Q-j6yAj"
      },
      "outputs": [],
      "source": [
        "# 2차원 배열 row 기준 정렬하기\n",
        "arr1 = np.array([[1,2,5],\n",
        "                 [6,4,1]])\n",
        "print(arr1.sort())\n",
        "# 2차원 배열 column 기준 정렬하기\n",
        "\n",
        "# 1차원 배열로 변경하여 전체 배열 정렬하기\n"
      ]
    },
    {
      "cell_type": "code",
      "execution_count": null,
      "metadata": {
        "id": "cn4so_6M_g5I"
      },
      "outputs": [],
      "source": [
        "# 배열을 정렬할 index 출력하기\n"
      ]
    },
    {
      "cell_type": "markdown",
      "metadata": {
        "id": "4-RDVTdKCtT5"
      },
      "source": [
        "# Section 5. N차원 배열의 형태 변경\n",
        "\n",
        "---\n",
        "\n"
      ]
    },
    {
      "cell_type": "markdown",
      "metadata": {
        "id": "RMXFTmZUACQa"
      },
      "source": [
        "###**5-1. 배열의 형태 변경1**"
      ]
    },
    {
      "cell_type": "code",
      "execution_count": null,
      "metadata": {
        "id": "bvJhjytfCuO2"
      },
      "outputs": [],
      "source": [
        "# 1차원 배열의 shape을 2차원으로 변경하기\n",
        "\n",
        "# 1차원 배열의 shape을 3차원으로 변경하기\n",
        "\n",
        "# 1차원 배열의 shape을 4차원으로 변경하기\n"
      ]
    },
    {
      "cell_type": "markdown",
      "metadata": {
        "id": "Nl6cb89TIJD6"
      },
      "source": [
        "###**5-2. 배열의 형태 변경2**"
      ]
    },
    {
      "cell_type": "code",
      "execution_count": null,
      "metadata": {
        "id": "E2JeRu9yIgTE"
      },
      "outputs": [],
      "source": [
        "# 배열의 형태를 변경하는 함수가 또 있었죠?\n",
        "\n",
        "# 다차원 배열을 1차원으로 변경하기\n"
      ]
    },
    {
      "cell_type": "code",
      "execution_count": null,
      "metadata": {
        "id": "7yl5ryHnUDbU"
      },
      "outputs": [],
      "source": [
        "# 배열의 shape 값의 일부를 자동으로 계산하기\n"
      ]
    },
    {
      "cell_type": "markdown",
      "metadata": {
        "id": "3tmq4-NTC6kD"
      },
      "source": [
        "###**5-3. 배열의 형태 변경3**"
      ]
    },
    {
      "cell_type": "code",
      "execution_count": null,
      "metadata": {
        "id": "XvuUY8LgLMhc"
      },
      "outputs": [],
      "source": [
        "# 배열의 차원을 row축을 기준으로 한 차원 확장하기\n",
        "\n",
        "# 배열의 차원을 column축을 기준으로 한 차원 확장하기"
      ]
    },
    {
      "cell_type": "code",
      "execution_count": null,
      "metadata": {
        "id": "gw6HBQ9ZDNFd"
      },
      "outputs": [],
      "source": [
        "# 배열의 차원을 row축을 기준으로 한 차원 축소하기\n",
        "\n",
        "# 배열의 차원을 column축을 기준으로 한 차원 축소하기\n",
        "\n",
        "# 3차원 배열을 1차원 배열로 한번에 축소하기\n"
      ]
    },
    {
      "cell_type": "markdown",
      "metadata": {
        "id": "aevtiA50X-4g"
      },
      "source": [
        "###**5-4. 전치행렬(Transpose Matrix)**"
      ]
    },
    {
      "cell_type": "code",
      "execution_count": null,
      "metadata": {
        "id": "cb6OQtomNIxh"
      },
      "outputs": [],
      "source": [
        "# 행렬 A를 전치 행렬로 변환하기\n"
      ]
    },
    {
      "cell_type": "markdown",
      "metadata": {
        "id": "oZmRcK0uYiuW"
      },
      "source": [
        "# Section 6. N차원 배열의 병합\n",
        "\n",
        "---\n",
        "\n"
      ]
    },
    {
      "cell_type": "markdown",
      "metadata": {
        "id": "SOSr3GU7VSZ7"
      },
      "source": [
        "###**6-1. 배열에 원소 추가 및 삭제**"
      ]
    },
    {
      "cell_type": "code",
      "execution_count": null,
      "metadata": {
        "id": "WWhOltOVaDEo"
      },
      "outputs": [],
      "source": [
        "# 1차원 배열에 원소 추가하기\n"
      ]
    },
    {
      "cell_type": "code",
      "execution_count": null,
      "metadata": {
        "id": "N34vfxdLc5WY"
      },
      "outputs": [],
      "source": [
        "# 2차원 배열에 row축을 기준으로 원소 추가하기\n",
        "\n",
        "# 2차원 배열에 column축을 기준으로 원소 추가하기\n",
        "\n",
        "# 2차원 배열을 1차원으로 변형하여 원소 추가하기"
      ]
    },
    {
      "cell_type": "code",
      "execution_count": null,
      "metadata": {
        "id": "GtWFPrX4eK63"
      },
      "outputs": [],
      "source": [
        "# 배열의 특정 원소를 row축을 기준으로 삭제하기\n",
        "\n",
        "# 배열의 특정 원소를 column축을 기준으로 삭제하기\n"
      ]
    },
    {
      "cell_type": "markdown",
      "metadata": {
        "id": "q0jYGS0-d31Y"
      },
      "source": [
        "###**6-2. 배열 간의 병합**"
      ]
    },
    {
      "cell_type": "code",
      "execution_count": 7,
      "metadata": {
        "id": "wVBQPC2udyU6"
      },
      "outputs": [
        {
          "name": "stdout",
          "output_type": "stream",
          "text": [
            "[[ 1  2  3  4]\n",
            " [ 5  6  7  8]\n",
            " [ 9 10 11 12]]\n",
            "[[13 14 15 16]\n",
            " [17 18 19 20]\n",
            " [21 22 23 24]]\n",
            "\n",
            "[[ 1  2  3  4]\n",
            " [ 5  6  7  8]\n",
            " [ 9 10 11 12]\n",
            " [13 14 15 16]\n",
            " [17 18 19 20]\n",
            " [21 22 23 24]]\n",
            "\n",
            "[[ 1  2  3  4 13 14 15 16]\n",
            " [ 5  6  7  8 17 18 19 20]\n",
            " [ 9 10 11 12 21 22 23 24]]\n",
            "\n",
            "[ 1  2  3  4  5  6  7  8  9 10 11 12 13 14 15 16 17 18 19 20 21 22 23 24]\n",
            "\n"
          ]
        }
      ],
      "source": [
        "# append()\n",
        "arr1 = np.arange(1,13).reshape(3,4)\n",
        "arr2 = np.arange(13,25).reshape(3,4)\n",
        "print(arr1)\n",
        "print(arr2, end=\"\\n\\n\")\n",
        "# 두 배열을 row축을 기준으로 병합하기\n",
        "arr3 = np.append(arr1, arr2, axis=0)\n",
        "print(arr3, end=\"\\n\\n\")\n",
        "# 두 배열을 column축을 기준으로 병합하기\n",
        "arr4 = np.append(arr1, arr2, axis=1)\n",
        "print(arr4, end=\"\\n\\n\")\n",
        "# 두 배열을 1차원 배열로 병합하기\n",
        "arr5 = np.append(arr1, arr2)\n",
        "print(arr5, end=\"\\n\\n\")"
      ]
    },
    {
      "cell_type": "markdown",
      "metadata": {
        "id": "mUc7hEkx2itB"
      },
      "source": [
        "###**6-3. 배열 분할**"
      ]
    },
    {
      "cell_type": "code",
      "execution_count": null,
      "metadata": {
        "id": "ce4gN6-z2r0G"
      },
      "outputs": [],
      "source": [
        "# 두 배열을 row축을 기준으로 분할하기\n",
        "\n",
        "# 두 배열을 column축을 기준으로 분할하기"
      ]
    },
    {
      "cell_type": "markdown",
      "metadata": {
        "id": "2Mscz4k2Mjla"
      },
      "source": [
        "# Section 7. 실습 예제\n",
        "\n",
        "---\n",
        "\n"
      ]
    },
    {
      "cell_type": "markdown",
      "metadata": {
        "id": "5k_ZnN1QM4cN"
      },
      "source": [
        "###**7-1. 실습 예제 1~3**"
      ]
    },
    {
      "cell_type": "code",
      "execution_count": null,
      "metadata": {
        "id": "rkBXHqdbPA6k"
      },
      "outputs": [],
      "source": [
        "import numpy as np"
      ]
    },
    {
      "cell_type": "markdown",
      "metadata": {
        "id": "wTXUGhUWPX91"
      },
      "source": [
        "**<예제 1>** 원소가 모두 3인 (3, 4, 5) 형태의 numpy.array를 출력하시오."
      ]
    },
    {
      "cell_type": "code",
      "execution_count": null,
      "metadata": {
        "id": "OMPs6EelNEGi"
      },
      "outputs": [],
      "source": [
        "# 답안 작성 (제한 시간 : 20초)\n"
      ]
    },
    {
      "cell_type": "markdown",
      "metadata": {
        "id": "n1bZJ0ZqPTm-"
      },
      "source": [
        "**<예제 2>** 정수 -50 ~ 50의 범위 안의 난수로 이루어진 (4, 5) 형태의 numpy.array를 출력하고 행을 기준으로 오름차순 정렬한 결과와 전체 배열을 1차원 배열로 변경하여 오름차순 정렬한 결과를 출력하시오."
      ]
    },
    {
      "cell_type": "code",
      "execution_count": null,
      "metadata": {
        "id": "MyHCkVLOOiD7"
      },
      "outputs": [],
      "source": [
        "# 답안 작성 (제한 시간 : 60초)\n",
        "# array 작성\n",
        "\n",
        "# 행을 기준으로 정렬한 결과 작성\n",
        "\n",
        "# 1차원 배열로 변경하여 정렬한 결과 작성\n"
      ]
    },
    {
      "cell_type": "markdown",
      "metadata": {
        "id": "XFzgr412S6fu"
      },
      "source": [
        "**<예제 3>** 다음과 같은 파이썬 list가 존재한다. list안에 있는 각 numpy.array의 원소들의 평균값과 표준편차, 중앙값을 순서대로 구하여 구한 순서대로 원소가 이루어진 새로운 list를 구성하고 출력하시오.\n",
        "\n",
        "- 예시 : 각 배열의 평균값이 3.0, 4.0, 5.0이고 표준편차가 1.5, 1.7, 1.9이며 중앙값이 1.0, 2.0, 3.0 이라면 배열로 구성하여 [3.0, 1.5, 1.0, 4.0, 1.7, 2.0, 5.0, 1.9, 3.0] 으로 출력한다."
      ]
    },
    {
      "cell_type": "code",
      "execution_count": null,
      "metadata": {
        "id": "YMS2zz__TGfW"
      },
      "outputs": [],
      "source": [
        "py_list = [\n",
        "    np.full(3, 8),\n",
        "    np.array([33, -15, 26]),\n",
        "    np.linspace(17, 26, 3)\n",
        "]\n",
        "\n",
        "# 답안 작성 (제한 시간 : 50초)\n"
      ]
    },
    {
      "cell_type": "markdown",
      "metadata": {
        "id": "nP-BjKfoaO2A"
      },
      "source": [
        "###**7-2. 실습 예제 4~6**"
      ]
    },
    {
      "cell_type": "markdown",
      "metadata": {
        "id": "I6fj9c_taeW8"
      },
      "source": [
        "**<예제 4>** 다음과 같은 numpy.array가 존재한다. 이 배열을 행을 기준으로 3개의 배열로 분할하여 분할된 각 배열의 원소들을 제곱한 결과를 다시 원본 배열에 행을 기준으로 병합하시오. (단, 마지막 출력 결과는 원본 배열과 차원이 같아야 한다)"
      ]
    },
    {
      "cell_type": "code",
      "execution_count": null,
      "metadata": {
        "colab": {
          "base_uri": "https://localhost:8080/"
        },
        "id": "jw7RDVQ1aQn4",
        "outputId": "b7d93912-6b90-49b7-bdb0-6e0842e9b659"
      },
      "outputs": [
        {
          "name": "stdout",
          "output_type": "stream",
          "text": [
            "[[ 2  4  6]\n",
            " [ 8 10 12]\n",
            " [14 16 18]]\n"
          ]
        }
      ],
      "source": [
        "arr = np.arange(2, 20, 2).reshape((3, 3))\n",
        "print(arr)\n",
        "\n",
        "# 답안 작성 (제한 시간 : 90초)\n"
      ]
    },
    {
      "cell_type": "markdown",
      "metadata": {
        "id": "ZLWy8JDOPVps"
      },
      "source": [
        "**<예제 5>** 삼각함수의 특수각(0deg, 30deg, 60deg, 90deg)을 numpy.array로 생성한 후 특수각에 해당하는 sin, cos, tan 값을 각각 구하여 파이썬 list에 담은 다음 해당 list에 들어있는 값들을 출력하시오. (단, 값이 무한대라면 \"INF\" 문자열을 출력할 것)"
      ]
    },
    {
      "cell_type": "code",
      "execution_count": null,
      "metadata": {
        "id": "Re_fUv6uPVFf"
      },
      "outputs": [],
      "source": [
        "# 답안 작성 (제한 시간 : 120초)\n",
        "# numpy의 삼각함수는 radian 값을 사용하기 때문에 degree를 radian으로 변경해야합니다.\n"
      ]
    },
    {
      "cell_type": "markdown",
      "metadata": {
        "id": "pJfpNqq8JR-I"
      },
      "source": [
        "**<예제 6>** numpy.array를 이용하여 다음과 같은 패턴을 출력하시오. (단, 출력 시 반복문을 사용하여 출력한다)\n",
        "\n",
        "\n",
        "---\n",
        "\n",
        "\n",
        "0 1 0 1 0 1 0   \n",
        "1 0 1 0 1 0 1   \n",
        "0 1 0 1 0 1 0   \n",
        "1 0 1 0 1 0 1   \n",
        "0 1 0 1 0 1 0   \n",
        "1 0 1 0 1 0 1   \n",
        "0 1 0 1 0 1 0 "
      ]
    },
    {
      "cell_type": "code",
      "execution_count": 88,
      "metadata": {
        "id": "cnmUwYbuJVNe"
      },
      "outputs": [
        {
          "name": "stdout",
          "output_type": "stream",
          "text": [
            "[[0 1 0 1 0 1 0]\n",
            " [1 0 1 0 1 0 1]\n",
            " [0 1 0 1 0 1 0]\n",
            " [1 0 1 0 1 0 1]\n",
            " [0 1 0 1 0 1 0]\n",
            " [1 0 1 0 1 0 1]\n",
            " [0 1 0 1 0 1 0]]\n"
          ]
        }
      ],
      "source": [
        "# 답안 작성 (제한 시간 : 120초)\n",
        "import numpy as np\n",
        "arr = np.eye(7,k= -5,dtype = np.int_)\n",
        "for i in range(-3,7,2):\n",
        "    arr += np.eye((7),k= i,dtype = np.int_)\n",
        "print(arr)"
      ]
    },
    {
      "cell_type": "markdown",
      "metadata": {
        "id": "nRvk2ot4BTHk"
      },
      "source": [
        "# 수고하셨습니다!"
      ]
    },
    {
      "cell_type": "markdown",
      "metadata": {
        "id": "ua4t0ToaZfq9"
      },
      "source": [
        "데이터 과학 및 딥러닝 분야의 다음 추천 학습분야에는 pandas, matplotlib, tensorflow(keras) or pytorch 등이 있습니다!"
      ]
    }
  ],
  "metadata": {
    "colab": {
      "collapsed_sections": [],
      "name": "데이터 과학을 위한 파이썬 NumPy 실습용_yjglab.ipynb",
      "provenance": []
    },
    "kernelspec": {
      "display_name": "Python 3",
      "name": "python3"
    },
    "language_info": {
      "codemirror_mode": {
        "name": "ipython",
        "version": 3
      },
      "file_extension": ".py",
      "mimetype": "text/x-python",
      "name": "python",
      "nbconvert_exporter": "python",
      "pygments_lexer": "ipython3",
      "version": "3.9.7"
    }
  },
  "nbformat": 4,
  "nbformat_minor": 0
}
