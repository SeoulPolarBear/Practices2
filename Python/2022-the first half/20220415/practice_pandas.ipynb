{
 "cells": [
  {
   "cell_type": "markdown",
   "metadata": {},
   "source": [
    "<h3>튜플 및 리스트에서의 index를 이용한 실습</h3>"
   ]
  },
  {
   "cell_type": "markdown",
   "metadata": {},
   "source": [
    "<h5>1차원</h5>"
   ]
  },
  {
   "cell_type": "code",
   "execution_count": 4,
   "metadata": {},
   "outputs": [
    {
     "name": "stdout",
     "output_type": "stream",
     "text": [
      "이름             파린이\n",
      "생년월일    2000-04-15\n",
      "성별               남\n",
      "여친여부          True\n",
      "dtype: object\n",
      "\n",
      "파린이\n",
      "파린이\n",
      "\n",
      "이름             판린이\n",
      "생년월일    2000-04-15\n",
      "성별               여\n",
      "남친여부          True\n",
      "dtype: object\n",
      "\n",
      "2000-04-15\n",
      "여\n"
     ]
    }
   ],
   "source": [
    "import pandas as pd\n",
    "\n",
    "tup_data = ('파린이', '2000-04-15', '남', True)\n",
    "sr = pd.Series(tup_data, index=['이름', '생년월일', '성별', '여친여부'])\n",
    "print(sr)\n",
    "print()\n",
    "print(sr[0])\n",
    "print(sr['이름'])\n",
    "\n",
    "list_data = ['판린이', '2000-04-15', '여', True]\n",
    "sr_list = pd.Series(list_data,index=['이름', '생년월일', '성별', '남친여부'])\n",
    "print()\n",
    "print(sr_list)\n",
    "print()\n",
    "print(sr_list[1])\n",
    "print(sr_list['성별'])\n"
   ]
  },
  {
   "cell_type": "markdown",
   "metadata": {},
   "source": [
    "<h1>DataFrame</h1>"
   ]
  },
  {
   "cell_type": "code",
   "execution_count": 8,
   "metadata": {},
   "outputs": [
    {
     "name": "stdout",
     "output_type": "stream",
     "text": [
      "   번호  성  나이\n",
      "0   1  김   3\n",
      "1   2  이   6\n",
      "2   3  임  10\n",
      "     번호  성  나이\n",
      "학생1   1  김   3\n",
      "학생2   2  이   6\n",
      "학생3   3  임  10\n"
     ]
    }
   ],
   "source": [
    "list_dataFrame = [[1,\"김\",3],[2,\"이\",6],[3,\"임\",10]]\n",
    "\n",
    "dic_data = pd.DataFrame(list_dataFrame,\n",
    "                        columns=[\"번호\",\"성\",\"나이\"])\n",
    "#다음과 같이 index를 넣지 않으면 number링을 자동으로 해준다.\n",
    "print(dic_data)\n",
    "\n",
    "dic_data.index = ['학생1','학생2','학생3']\n",
    "print(dic_data)"
   ]
  },
  {
   "cell_type": "markdown",
   "metadata": {},
   "source": [
    "<h3>행/열 수정, 삭제</h3>"
   ]
  },
  {
   "cell_type": "code",
   "execution_count": 11,
   "metadata": {},
   "outputs": [
    {
     "name": "stdout",
     "output_type": "stream",
     "text": [
      "     나이 성별   학교\n",
      "학생1  18  남  김천고\n",
      "민지   19  여  울산고\n",
      "    나이 성별   학교\n",
      "민지  19  여  울산고\n"
     ]
    }
   ],
   "source": [
    "df = pd.DataFrame([[18, '남','김천고'], [19, '여', '울산고']],\n",
    "                 index=['진현', '민지'],\n",
    "                 columns=['나이', '성별', '학교'])\n",
    "\n",
    "df.rename(index={\"진현\":\"학생1\"},inplace=True)#한개만 변경가능\n",
    "print(df)\n",
    "\n",
    "df.drop('학생1',axis=0,inplace=True)\n",
    "print(df)\n"
   ]
  },
  {
   "cell_type": "markdown",
   "metadata": {},
   "source": [
    "<h1>열을 인덱스로 지정하기</h1>"
   ]
  },
  {
   "cell_type": "code",
   "execution_count": null,
   "metadata": {},
   "outputs": [],
   "source": [
    "exam_data = {'수학':[100, 40, 70, 30], '영어': [50, 70, 90, 80], '생물': [50, 90, 70, 18], '도덕': [88, 68, 58, 77]}\n",
    "df = pd.DataFrame(exam_data,index=['진현','민지','성철','지산'])\n",
    "print(df)\n",
    "\n",
    "df.set_index('수학',inplace=True)\n",
    "print(df)"
   ]
  }
 ],
 "metadata": {
  "interpreter": {
   "hash": "88f7d9682c9ee8e768c3f62f4fb6b0e633c423827af79919bb9d6145d4a78287"
  },
  "kernelspec": {
   "display_name": "Python 3.9.7 ('py39')",
   "language": "python",
   "name": "python3"
  },
  "language_info": {
   "codemirror_mode": {
    "name": "ipython",
    "version": 3
   },
   "file_extension": ".py",
   "mimetype": "text/x-python",
   "name": "python",
   "nbconvert_exporter": "python",
   "pygments_lexer": "ipython3",
   "version": "3.9.7"
  },
  "orig_nbformat": 4
 },
 "nbformat": 4,
 "nbformat_minor": 2
}
